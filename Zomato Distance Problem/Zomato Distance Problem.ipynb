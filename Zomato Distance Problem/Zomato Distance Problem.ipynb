{
 "cells": [
  {
   "cell_type": "markdown",
   "metadata": {},
   "source": [
    "## Zomato Distance Problem\n",
    "\n",
    "Distance is also a very important factor while selecting a restaurant. Suppose you are at Coding Ninjas and you want to select the restaurant which is near to you using Zomato API.\n",
    "\n",
    "Note down the latitude and longitude of Coding Ninjas using Google Maps\n",
    "\n",
    "There is a list of questions related to restaurant near me given in the next section."
   ]
  },
  {
   "cell_type": "markdown",
   "metadata": {},
   "source": [
    "## Zomato distance 3.1\n",
    "\n",
    "Fetch the cuisine_id of of cuisine ‘BBQ’ using Zomato API.\n",
    "\n",
    "Print the cuisine_id"
   ]
  },
  {
   "cell_type": "code",
   "execution_count": 1,
   "metadata": {},
   "outputs": [
    {
     "name": "stdout",
     "output_type": "stream",
     "text": [
      "193\n"
     ]
    }
   ],
   "source": [
    "user_key = \"1cbb4dd17895f5c1cf486cc328c67074\"\n",
    "import requests\n",
    "# city_id = 1 for delhi, means we are searching in delhi as almost every cuisine is served in delhi\n",
    "res = requests.get('https://developers.zomato.com/api/v2.1/cuisines', headers={'user-key':user_key}, params={'city_id':1}) \n",
    "py_data = res.json()\n",
    "for i in py_data['cuisines']:\n",
    "    if i['cuisine']['cuisine_name'] == 'BBQ':\n",
    "        print(i['cuisine']['cuisine_id'])"
   ]
  },
  {
   "cell_type": "markdown",
   "metadata": {},
   "source": [
    "## Zomato distance 3.2\n",
    "\n",
    "Fetch the list of the top 10 restaurants serving cuisine ‘BBQ’ which are nearest to Coding Ninjas.\n",
    "\n",
    "Print the restaurant name, user rating, restaurant id and locality in which restaurant is present."
   ]
  },
  {
   "cell_type": "code",
   "execution_count": 2,
   "metadata": {},
   "outputs": [
    {
     "name": "stdout",
     "output_type": "stream",
     "text": [
      "Themis Barbecue House 4.2 18204820 Netaji Subhash Place\n",
      "UBQ by Barbeque Nation 3.6 18889769 Netaji Subhash Place\n",
      "Barbeque Nation 4.1 9561 Netaji Subhash Place\n",
      "Amazings Kitchen 0 19370424 Prashant Vihar\n",
      "Anytime Chicken 0 19520153 Shalimar Bagh\n",
      "UBQ by Barbeque Nation 3.9 19082741 Lawrence Road\n",
      "Moet's Barbeque 0 19238917 Alipur\n",
      "BBQ Express By The Barbeque Company 3.9 19494102 Punjabi Bagh\n",
      "UBQ by Barbeque Nation 3.6 18889760 Rohini\n",
      "Dine & Woods 0 19637010 Ashok Vihar Phase 3\n"
     ]
    }
   ],
   "source": [
    "user_key = \"1cbb4dd17895f5c1cf486cc328c67074\"\n",
    "import requests\n",
    "info = {'lat':28.697821,'lon':77.140681, 'count':10, 'cuisines':193,'sort':'real_distance'} # sort by ratings bcz we have to find best restaurants\n",
    "response = requests.get('https://developers.zomato.com/api/v2.1/search', headers={'user-key':user_key},params=info)\n",
    "py_data = response.json()\n",
    "\n",
    "rest_list = py_data['restaurants']\n",
    "for i in rest_list:\n",
    "    print(i['restaurant']['name'], i['restaurant']['user_rating']['aggregate_rating'], i['restaurant']['R']['res_id'],\n",
    "         i['restaurant']['location']['locality'])"
   ]
  },
  {
   "cell_type": "markdown",
   "metadata": {},
   "source": [
    "## Zomato distance 3.3\n",
    "\n",
    "Fetch the latest review of the restaurant serving cuisine ‘BBQ’ which is most nearest to Coding ninjas?\n",
    "\n",
    "Print the name of user ,user rating and review text.\n",
    "\n",
    "#### Note :\n",
    "\n",
    "Due to limitation of basic API plan it, can only fetch 5 latest review"
   ]
  },
  {
   "cell_type": "code",
   "execution_count": 3,
   "metadata": {},
   "outputs": [
    {
     "name": "stdout",
     "output_type": "stream",
     "text": [
      "Nikhil 1 Everything was great about this restaurant but giving it 1 star coz it's closed for ever now n zomato hasn't updated this on there app yet...\n",
      "Palak Gupta 1 Since morning i am trying to call them and they keep rejecting my call. What kind of service is this? Phone being busy is understandable but why would you reject the call?\n",
      "Garima Arora 5 Wow place for family .. friends or anyone i have enjoyed my family dinner food is superb with quality and service and staff was superb .. amamzingly attend  and serviced.. mouth watering food barbeque snacks dinner deserts 😍♥️\n",
      "ASHISH GUPTA 1 I went there because of the reviews and the food was pathetic. Go for pirates of grill. It will be worth it\n",
      "Shivam Mangal 2 \n"
     ]
    }
   ],
   "source": [
    "user_key = \"1cbb4dd17895f5c1cf486cc328c67074\"\n",
    "import requests\n",
    "info = {'res_id':18204820, 'count':5}\n",
    "res = requests.get('https://developers.zomato.com/api/v2.1/reviews', params=info, headers={'user-key':user_key})\n",
    "py_data = res.json()\n",
    "for com in py_data['user_reviews']:\n",
    "    print(com['review']['user']['name'], com['review']['rating'], com['review']['review_text'])"
   ]
  },
  {
   "cell_type": "markdown",
   "metadata": {},
   "source": [
    "## Zomato distance 3.4\n",
    "\n",
    "Experiment with the radius parameter that is present in ‘GET/search’. Fetch the list of top 10 best-restaurant present in a radius of 4 km of coding ninjas.\n",
    "\n",
    "Print the restaurant name, user rating, restaurant id and locality in which restaurant is present."
   ]
  },
  {
   "cell_type": "code",
   "execution_count": 4,
   "metadata": {},
   "outputs": [
    {
     "name": "stdout",
     "output_type": "stream",
     "text": [
      "Indian Accent 4.9 2004 The Lodhi, Lodhi Road\n",
      "Cafe Lota 4.9 305525 Pragati Maidan\n",
      "The Big Chill 4.9 1614 Khan Market\n",
      "Kuremal Mohan Lal Kulfi Wale 4.9 303642 Chawri Bazar\n",
      "Dum-Pukht - ITC Maurya 4.9 2744 ITC Maurya, Chanakyapuri\n",
      "Cocktails & Dreams, Speakeasy 4.9 300716 Sector 15\n",
      "The Big Chill 4.9 8244 Khan Market\n",
      "Manhattan Bar & Brewery 4.8 303960 Global Foyer Mall, Golf Course Road\n",
      "The Big Chill Cafe 4.8 18919107 The Colonnade, Connaught Place\n",
      "The Big Chill 4.8 3192 DLF Avenue, Saket\n"
     ]
    }
   ],
   "source": [
    "user_key = \"1cbb4dd17895f5c1cf486cc328c67074\"\n",
    "\n",
    "import requests\n",
    "info = {'count':10, 'lat':28.697821 ,'lon': 77.140681, 'radius':4000, 'sort':'rating'}\n",
    "response = requests.get('https://developers.zomato.com/api/v2.1/search', headers={'user-key':user_key},params=info)\n",
    "py_data = response.json()\n",
    "rest_list = py_data['restaurants']\n",
    "for i in rest_list:\n",
    "    print(i['restaurant']['name'], float(i['restaurant']['user_rating']['aggregate_rating']), i['restaurant']['R']['res_id'],\n",
    "         i['restaurant']['location']['locality'])"
   ]
  },
  {
   "cell_type": "markdown",
   "metadata": {},
   "source": [
    "## Zomato distance 3.5\n",
    "\n",
    "Compare the location of the restaurant whether really they are in a distance of 4 km to Coding Ninjas. Find out whether these API radius feature is working or not.\n",
    "\n",
    "Print 'yes' if radius feature work else print 'no'.\n",
    "\n",
    "#### Note :\n",
    "\n",
    "Use google search to find whether restaurant lie in range of 4km or not."
   ]
  },
  {
   "cell_type": "code",
   "execution_count": null,
   "metadata": {},
   "outputs": [],
   "source": []
  }
 ],
 "metadata": {
  "kernelspec": {
   "display_name": "Python 3",
   "language": "python",
   "name": "python3"
  },
  "language_info": {
   "codemirror_mode": {
    "name": "ipython",
    "version": 3
   },
   "file_extension": ".py",
   "mimetype": "text/x-python",
   "name": "python",
   "nbconvert_exporter": "python",
   "pygments_lexer": "ipython3",
   "version": "3.7.3"
  }
 },
 "nbformat": 4,
 "nbformat_minor": 2
}
