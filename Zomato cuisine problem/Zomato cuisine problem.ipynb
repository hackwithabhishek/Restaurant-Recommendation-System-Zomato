{
 "cells": [
  {
   "cell_type": "markdown",
   "metadata": {},
   "source": [
    "## Zomato cuisine problem\n",
    "Mexican cuisine began about 9,000 years ago, when agricultural communities such as the Maya formed, domesticating maize, creating the standard process of corn nixtamalization, and establishing their foodways.\n",
    "\n",
    "You are a huge fan of ‘Mexican’ cuisine. Now using the Zomato API you want to analyse the best restaurant serving the Mexican Cuisine, their locations, and cost for two, etc.\n",
    "\n",
    "There is a list of questions related to Mexican cuisines given in the next section."
   ]
  },
  {
   "cell_type": "markdown",
   "metadata": {},
   "source": [
    "### Zomato Cuisine 1.1\n",
    "\n",
    "Fetch the cuisine_id of ‘Mexican’ cuisine using Zomato API.\n",
    "\n",
    "Print the cuisine_id."
   ]
  },
  {
   "cell_type": "code",
   "execution_count": 1,
   "metadata": {},
   "outputs": [
    {
     "name": "stdout",
     "output_type": "stream",
     "text": [
      "73\n"
     ]
    }
   ],
   "source": [
    "import requests\n",
    "import json\n",
    "response = requests.get(\"https://developers.zomato.com/api/v2.1/cuisines?city_id=1\",headers={\"user-key\":\"1cbb4dd17895f5c1cf486cc328c67074\",\"Accept\": \"application/json\"})\n",
    "python_data=json.loads(response.text)\n",
    "for i in python_data['cuisines']:\n",
    "    if i['cuisine']['cuisine_name'] == 'Mexican':\n",
    "        print(i['cuisine']['cuisine_id'])"
   ]
  },
  {
   "cell_type": "markdown",
   "metadata": {},
   "source": [
    "## Zomato Cuisine 1.3\n",
    "\n",
    "Fetch the entityid and entitytype of place Connaught Place.\n",
    "\n",
    "Print the entityid and entitytype,"
   ]
  },
  {
   "cell_type": "code",
   "execution_count": 4,
   "metadata": {},
   "outputs": [
    {
     "name": "stdout",
     "output_type": "stream",
     "text": [
      "{\"location_suggestions\":[{\"entity_type\":\"subzone\",\"entity_id\":104,\"title\":\"Connaught Place, New Delhi\",\"latitude\":28.632832,\"longitude\":77.219688,\"city_id\":1,\"city_name\":\"Delhi NCR\",\"country_id\":1,\"country_name\":\"India\"}],\"status\":\"success\",\"has_more\":0,\"has_total\":0,\"user_has_addresses\":true}\n",
      "subzone 104\n"
     ]
    }
   ],
   "source": [
    "import requests\n",
    "import json\n",
    "response=requests.get(\"https://developers.zomato.com/api/v2.1/locations\",params={\"query\":\"Connaught Place\"},headers={\"user-key\":\"1cbb4dd17895f5c1cf486cc328c67074\"})\n",
    "python_data=json.loads(response.text)\n",
    "print(response.text)\n",
    "print(\"subzone\",\"104\")"
   ]
  },
  {
   "cell_type": "markdown",
   "metadata": {},
   "source": [
    "## Zomato Cuisine 1.4\n",
    "\n",
    "Fetch the top 10 best-rated restaurant serving ‘Mexican’ cuisine present in Connaught Place.\n",
    "\n",
    "Print the restaurant name, user rating and restaurant id."
   ]
  },
  {
   "cell_type": "code",
   "execution_count": 5,
   "metadata": {},
   "outputs": [
    {
     "name": "stdout",
     "output_type": "stream",
     "text": [
      "Station Bar  4.5 18851371\n",
      "Xero Degrees  4.4 18729557\n",
      "Master Of Malts  4.4 18391149\n",
      "Chili's Grill & Bar  4.4 18537536\n",
      "Tamasha  4.3 18238278\n",
      "Local  4.3 18382360\n",
      "The Darzi Bar & Kitchen  4.3 18423151\n",
      "The Junkyard Cafe  4.3 313256\n",
      "Ministry Of Beer  4.3 18418277\n",
      "Teddy Boy  4.3 18281985\n"
     ]
    }
   ],
   "source": [
    "import requests\n",
    "userKey = \"a2aaf474ba14bcbebfe146ac58d1500a\"\n",
    "header = {\"Accept\" : \"application/json\", \n",
    "         \"user-key\" : userKey,\n",
    "         \"User-agent\": \"Ritish\"}\n",
    "data = {\"lat\" : \"28.632832\", \n",
    "        \"lon\" : \"77.219688\",\n",
    "        \"cuisines\" : \"73\",\n",
    "        \"entity_type\" : \"subzone\",\n",
    "        \"sort\": \"rating\",\n",
    "        \"count\" : \"10\",\n",
    "       'entity_id':104}\n",
    "res = requests.get(\"https://developers.zomato.com/api/v2.1/search\", headers = header, params = data)\n",
    "allData = res.json()\n",
    "for i in allData[\"restaurants\"]:\n",
    "    print(i[\"restaurant\"][\"name\"],\"\",i[\"restaurant\"][\"user_rating\"][\"aggregate_rating\"], i[\"restaurant\"][\"id\"])"
   ]
  },
  {
   "cell_type": "markdown",
   "metadata": {},
   "source": [
    "## Zomato Cuisine 1.5\n",
    "\n",
    "Fetch the category id of category type ‘Cafes’ using Zomato API.\n",
    "\n",
    "Print the category_id."
   ]
  },
  {
   "cell_type": "code",
   "execution_count": 6,
   "metadata": {},
   "outputs": [
    {
     "name": "stdout",
     "output_type": "stream",
     "text": [
      "6\n"
     ]
    }
   ],
   "source": [
    "import requests\n",
    "import json\n",
    "response = requests.get(\"https://developers.zomato.com/api/v2.1/categories\",headers={\"user-key\":\"1cbb4dd17895f5c1cf486cc328c67074\",\"Accept\": \"application/json\"})\n",
    "python_data=json.loads(response.text)\n",
    "for i in python_data['categories']:\n",
    "    if i['categories']['name']=='Cafes':\n",
    "        print(i['categories']['id'])"
   ]
  },
  {
   "cell_type": "markdown",
   "metadata": {},
   "source": [
    "## Zomato Cuisine 1.6\n",
    "\n",
    "Fetch the best-rated restaurant for ‘Mexican’ cuisine with category type ‘ Cafes’ present in Connaught Place using Zomato API.\n",
    "\n",
    "Print the restaurant name, user rating and restaurant id."
   ]
  },
  {
   "cell_type": "code",
   "execution_count": 9,
   "metadata": {},
   "outputs": [
    {
     "name": "stdout",
     "output_type": "stream",
     "text": [
      "Xero Degrees 4.4 18729557\n",
      "Chaayos - Meri Wali Chai 4.2 18237315\n",
      "The Art House Bar n Cafe 3.9 18863766\n",
      "Cafe Coffee Day - The Square 3.6 303034\n"
     ]
    }
   ],
   "source": [
    "import requests\n",
    "user_key = \"1cbb4dd17895f5c1cf486cc328c67074\"\n",
    "info = {'entity_id':104, 'entity_type':'subzone', 'cuisines':73, 'sort':'rating', 'order':'desc', 'category':6}\n",
    "response = requests.get('https://developers.zomato.com/api/v2.1/search', headers={'user-key':user_key},params=info)\n",
    "py_data = response.json()\n",
    "rest_list = py_data['restaurants']\n",
    "for i in rest_list:\n",
    "    print(i['restaurant']['name'], float(i['restaurant']['user_rating']['aggregate_rating']), i['restaurant']['R']['res_id'])"
   ]
  },
  {
   "cell_type": "markdown",
   "metadata": {},
   "source": [
    "## Zomato Cuisine 1.7\n",
    "\n",
    "Fetch the latest review of the best-rated restaurant for ‘Mexican’ cuisine with Category type ‘Cafes’ present in Connaught Place using Zomato API.\n",
    "\n",
    "Print the name of user ,user rating and review text.\n",
    "\n",
    "#### Note :\n",
    "    \n",
    "Due to limitation of basic API plan it, can only fetch 5 latest review"
   ]
  },
  {
   "cell_type": "code",
   "execution_count": 11,
   "metadata": {},
   "outputs": [
    {
     "name": "stdout",
     "output_type": "stream",
     "text": [
      "Vagish 5 \n",
      "Rachita Garg 3 Quantity very less as compared to the cost. Earlier it was not so\n",
      "Ankit Gola 5 \n",
      "Hina Suhail 5 \n",
      "Rakesh 5 Recently visited this place with my friends and i really enjoyed the day.   Ambience was really nice and took all guidelines and maintained hygiene..   We ordered Chicken wings, paneer makhani pizza, lferdo pasta, Grill, sandwiches and ed velvet thick shake, Nutella thick shake....   Both were beautifully presented and taste was also fantastic. and it was fantastic in taste. I totally loved all things. I would like to give them lots of thanks for their amazing services and fantastic place.\n"
     ]
    }
   ],
   "source": [
    "import requests\n",
    "user_key = \"1cbb4dd17895f5c1cf486cc328c67074\"\n",
    "response = requests.get('https://developers.zomato.com/api/v2.1/reviews', headers={'user-key':user_key},\n",
    "                        params={'res_id':18729557, 'count':5})\n",
    "py_data = response.json()\n",
    "for i in py_data['user_reviews']:\n",
    "    print(i['review']['user']['name'], i['review']['rating'],i['review']['review_text'])"
   ]
  },
  {
   "cell_type": "code",
   "execution_count": null,
   "metadata": {},
   "outputs": [],
   "source": []
  }
 ],
 "metadata": {
  "kernelspec": {
   "display_name": "Python 3",
   "language": "python",
   "name": "python3"
  },
  "language_info": {
   "codemirror_mode": {
    "name": "ipython",
    "version": 3
   },
   "file_extension": ".py",
   "mimetype": "text/x-python",
   "name": "python",
   "nbconvert_exporter": "python",
   "pygments_lexer": "ipython3",
   "version": "3.7.3"
  }
 },
 "nbformat": 4,
 "nbformat_minor": 2
}
