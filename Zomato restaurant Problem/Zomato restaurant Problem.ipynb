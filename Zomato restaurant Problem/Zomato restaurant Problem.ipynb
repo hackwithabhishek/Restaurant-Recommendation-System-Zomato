{
 "cells": [
  {
   "cell_type": "markdown",
   "metadata": {},
   "source": [
    "## Zomato restaurant Problem\n",
    "\n",
    "\"Pa Pa Ya\" is a modern Asian bistro & tapas bar from the House of Massive Restaurants and best described as a chic, modern and radical reinterpretation of Asian cuisine.\n",
    "\n",
    "You have heard from your friends that restaurant \"Pa Pa Ya\" in Delhi is quite good. So now you want to extract the information related to \"Pa Pa Ya\" using Zomato API.\n",
    "\n",
    "There is a list of questions related to the restaurant given in the next section."
   ]
  },
  {
   "cell_type": "markdown",
   "metadata": {},
   "source": [
    "### Zomato Restaurant 2.2\n",
    "\n",
    "Fetch the details of \"Pa Pa Ya\" restaurant using Zomato API.\n",
    "\n",
    "Print the user rating, the average cost for two, cuisines and address of \"Pa Pa Ya\" restaurant."
   ]
  },
  {
   "cell_type": "code",
   "execution_count": 2,
   "metadata": {},
   "outputs": [
    {
     "name": "stdout",
     "output_type": "stream",
     "text": [
      "4.4\n",
      "2500\n",
      "Asian, Chinese, Thai, Japanese, Sushi, Malaysian, Momos, Beverages\n",
      "A-3, Select Citywalk, District Centre, Saket, New Delhi\n"
     ]
    }
   ],
   "source": [
    "import requests\n",
    "user_key = \"1cbb4dd17895f5c1cf486cc328c67074\"\n",
    "info = {'res_id':18429148} # from documentation using search endpoint\n",
    "response = requests.get('https://developers.zomato.com/api/v2.1/restaurant', headers={'user-key':user_key},params=info)\n",
    "py_data = response.json() \n",
    "print(float(py_data['user_rating']['aggregate_rating']), \n",
    "      py_data['average_cost_for_two'],py_data['cuisines'], py_data['location']['address'], sep=\"\\n\")"
   ]
  },
  {
   "cell_type": "markdown",
   "metadata": {},
   "source": [
    "## Zomato Restaurant 2.3\n",
    "\n",
    "Find out whether online table reservation is supported in \"Pa Pa Ya\" restaurant or not using Zomato API.\n",
    "\n",
    "Print 'yes' if online table reservation is supported else 'no'\n",
    "\n",
    "#### Note :\n",
    "\n",
    "In Zomato response JSON. 1=Yes and 0 = No"
   ]
  },
  {
   "cell_type": "code",
   "execution_count": 3,
   "metadata": {},
   "outputs": [
    {
     "name": "stdout",
     "output_type": "stream",
     "text": [
      "yes\n"
     ]
    }
   ],
   "source": [
    "user_key = \"1cbb4dd17895f5c1cf486cc328c67074\"\n",
    "import requests\n",
    "info = {'res_id':18429148} # from documentation using search endpoint\n",
    "response = requests.get('https://developers.zomato.com/api/v2.1/restaurant', headers={'user-key':user_key},params=info)\n",
    "py_data = response.json() \n",
    "if py_data['is_table_reservation_supported']:\n",
    "    print('yes')\n",
    "else:\n",
    "    print('no')"
   ]
  },
  {
   "cell_type": "markdown",
   "metadata": {},
   "source": [
    "## Zomato Restaurant 2.4\n",
    "\n",
    "Fetch the latest review of \"Pa Pa Ya\" restaurant using Zomato API.\n",
    "\n",
    "Print the name of the user, user rating and review text.\n",
    "\n",
    "#### Note :\n",
    "\n",
    "Due to the limitation of the basic API plan, it can only fetch 5 latest review"
   ]
  },
  {
   "cell_type": "code",
   "execution_count": 4,
   "metadata": {},
   "outputs": [
    {
     "name": "stdout",
     "output_type": "stream",
     "text": [
      "Esther Namikaze 5 Wonderful lunch with my best friend ❤️❤️ Great food, courteous staff. I want to mention Vikram who was extremely helpful and sweet, and made our experience even better. Wok fried noodles were our fav. Highly recommended. The dessert was also delicious. Thank you for everything.\n",
      "Debolina Dey 4 \n",
      "Megha Jain 5 The food was very delicious, totally worth the price. The ambience was good. Social distancing and hygiene factors were given utmost importance. The staff was well behaved and professional especially Mr. Sanjeev and Mr. Rajesh.\n",
      "Amit 5 Great ambience and Food was extremely delicious in taste. In starters, we ordered Crystal Cream Cheese, Roasted Aubergine,  Lotus Flour Buns, sushi 😍 was exceptional (must try).  & Special Drinks by bartender Pankaj  In mains - Phad thai noodle, wok tossed vegetable, khao pad kar pao, Dessert- Caramel ice cream Bao Staff was really hospitable, courteous and friendly. Special thanks to all the staff (Manager- Prakash, Karanveer, Server - Rajesh, Sanjeev and  Bartender-  Pankaj & Vipin) to make my day great.\n",
      "Shruti Jain 4 A must visit place for asian food lovers. We ordered sushi (5/5), open bao (5/5). However the quantity they serve is extremely less.\n"
     ]
    }
   ],
   "source": [
    "user_key = \"1cbb4dd17895f5c1cf486cc328c67074\"\n",
    "import requests\n",
    "response = requests.get('https://developers.zomato.com/api/v2.1/reviews', headers={'user-key':user_key},\n",
    "                        params={'res_id':18429148, 'count':5})\n",
    "py_data = response.json()\n",
    "for i in py_data['user_reviews']:\n",
    "    print(i['review']['user']['name'], i['review']['rating'],i['review']['review_text'])\n"
   ]
  },
  {
   "cell_type": "code",
   "execution_count": null,
   "metadata": {},
   "outputs": [],
   "source": []
  }
 ],
 "metadata": {
  "kernelspec": {
   "display_name": "Python 3",
   "language": "python",
   "name": "python3"
  },
  "language_info": {
   "codemirror_mode": {
    "name": "ipython",
    "version": 3
   },
   "file_extension": ".py",
   "mimetype": "text/x-python",
   "name": "python",
   "nbconvert_exporter": "python",
   "pygments_lexer": "ipython3",
   "version": "3.7.3"
  }
 },
 "nbformat": 4,
 "nbformat_minor": 2
}
